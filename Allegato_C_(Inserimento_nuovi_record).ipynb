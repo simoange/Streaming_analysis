{
 "cells": [
  {
   "cell_type": "code",
   "execution_count": null,
   "metadata": {},
   "outputs": [],
   "source": [
    "import numpy as np\n",
    "import pandas as pd\n",
    "import matplotlib.pyplot as plt\n",
    "import seaborn as sns"
   ]
  },
  {
   "cell_type": "code",
   "execution_count": null,
   "metadata": {},
   "outputs": [],
   "source": [
    "file_path_film = \"TUO_PATH_FILM.csv\"\n",
    "sdf_movies = pd.read_csv(file_path_film)"
   ]
  },
  {
   "cell_type": "code",
   "execution_count": null,
   "metadata": {},
   "outputs": [],
   "source": [
    "file_path_users = \"TUO_PATH_USERS.csv\"\n",
    "sdf_users = pd.read_csv(file_path_users)"
   ]
  },
  {
   "cell_type": "code",
   "execution_count": null,
   "metadata": {},
   "outputs": [],
   "source": [
    "file_path_ratings = \"TUO_PATH_RATINGS.csv\"\n",
    "sdf_ratings = pd.read_csv(file_path_ratings)"
   ]
  },
  {
   "cell_type": "code",
   "execution_count": null,
   "metadata": {},
   "outputs": [],
   "source": [
    "# Correct way to define configuration\n",
    "config = {\n",
    "    'host': \"localhost\",\n",
    "    'user': \"root\",\n",
    "    'password': \"root\",\n",
    "    'database': \"on_the_movie\"\n",
    "}"
   ]
  },
  {
   "cell_type": "code",
   "execution_count": null,
   "metadata": {},
   "outputs": [],
   "source": [
    "# insert into users_movie\n",
    "import mysql.connector\n",
    "with mysql.connector.connect(**config) as conn:\n",
    "    with conn.cursor() as cursor:\n",
    "        \n",
    "        query_movie= \"insert into movie_table(MovieID, Title, Genres, Year) values (%s,%s,%s,%s)\"\n",
    "   \n",
    "        for tupla in sdf_movies.itertuples(index=False, name=None):\n",
    "            \n",
    "            cursor.execute(query_movie, (tupla[0],tupla[1],tupla[2],tupla[3]))\n",
    "    conn.commit()\n"
   ]
  },
  {
   "cell_type": "code",
   "execution_count": null,
   "metadata": {},
   "outputs": [],
   "source": [
    "# insert into users_table\n",
    "import mysql.connector\n",
    "with mysql.connector.connect(**config) as conn:\n",
    "    with conn.cursor() as cursor:\n",
    "        \n",
    "       query_users= \"insert into users_table(UsersId, Gender, Age, CAP, Work) values (%s,%s,%s,%s,%s)\"\n",
    "   \n",
    "       for tupla in sdf_users.itertuples(index=False, name=None):\n",
    "            \n",
    "            cursor.execute(query_users, (tupla[0],tupla[1],tupla[2],tupla[3],tupla[4]))\n",
    "    conn.commit()"
   ]
  },
  {
   "cell_type": "code",
   "execution_count": null,
   "metadata": {},
   "outputs": [],
   "source": [
    "# insert into users_ratings\n",
    "with mysql.connector.connect(**config) as conn:\n",
    "    with conn.cursor() as cursor:\n",
    "        \n",
    "        query_ratings= \"insert into ratings_table(UserID, MovieID, Rating, Timestamp) values (%s,%s,%s,%s)\"\n",
    "   \n",
    "        for tupla in sdf_ratings.itertuples(index=False, name=None):\n",
    "            \n",
    "            cursor.execute(query_ratings, (tupla[0],tupla[1],tupla[2],tupla[3]))\n",
    "    conn.commit()"
   ]
  }
 ],
 "metadata": {
  "kernelspec": {
   "display_name": "Daita",
   "language": "python",
   "name": "python3"
  },
  "language_info": {
   "name": "python",
   "version": "3.12.8"
  }
 },
 "nbformat": 4,
 "nbformat_minor": 2
}
